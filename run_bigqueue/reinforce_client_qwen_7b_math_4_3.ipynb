{
 "cells": [
  {
   "cell_type": "code",
   "execution_count": null,
   "metadata": {},
   "outputs": [],
   "source": [
    "# !pip install --upgrade bigqueue-client"
   ]
  },
  {
   "cell_type": "code",
   "execution_count": 10,
   "metadata": {},
   "outputs": [],
   "source": [
    "from bigqueue.client.client import BigqueueClient, BigqueueClientConfig"
   ]
  },
  {
   "cell_type": "markdown",
   "metadata": {},
   "source": []
  },
  {
   "cell_type": "code",
   "execution_count": 11,
   "metadata": {},
   "outputs": [],
   "source": [
    "from bigqueue.client.entity import *"
   ]
  },
  {
   "cell_type": "code",
   "execution_count": 12,
   "metadata": {},
   "outputs": [],
   "source": [
    "config = {\n",
    "    'bigqueue_service_url': 'https://bigqueue.a.musta.ch',\n",
    "    'bigqueue_service_version': '0',\n",
    "    'datastore_type': 'S3',\n",
    "    'datastore_init_kwargs': {\n",
    "        'bucket': 'airbnb-bigqueue',\n",
    "        'base_prefix': 'staging'\n",
    "    }\n",
    "}"
   ]
  },
  {
   "cell_type": "code",
   "execution_count": 13,
   "metadata": {},
   "outputs": [],
   "source": [
    "bigq_client = BigqueueClient(BigqueueClientConfig(**config))"
   ]
  },
  {
   "cell_type": "code",
   "execution_count": 14,
   "metadata": {},
   "outputs": [],
   "source": [
    "model = bigq_client.upload_model(\n",
    "    owner=\"shaowei_su\",\n",
    "    env=\"devel/shaowei/rl:0.0.5\",\n",
    "    model_file_root='/home/tianbing_xu/repos/GRPO/TinyZero',\n",
    "    model_file_path='verl/trainer/main_ppo.py',\n",
    "    name='Demo Ray Job Codebase for MATH RL',\n",
    "    flavor='ray')"
   ]
  },
  {
   "cell_type": "code",
   "execution_count": null,
   "metadata": {},
   "outputs": [],
   "source": [
    "job = bigq_client.create_ray_job(\n",
    "    model_id=model['id'],\n",
    "    name=\"REINFORCE MATH DIFFICULT: base Qwen2.5-Math-7B\",\n",
    "    owner='tianbing_xu',\n",
    "    team='one_airbnb_team_id_2934',\n",
    "    queue='csp-mle-p4',\n",
    "    execution_config={\n",
    "        'head': {'cpu': 12, 'memory': '20Gi',  'ephemeral_storage': '50Gi',},\n",
    "        'worker': {'number': 1, 'gpu': 4, 'accelerator': 'nvidia-tesla-a100xl', 'cpu': 24, 'memory': '240Gi',  'ephemeral_storage': '200Gi',}\n",
    "    },\n",
    "    runtime_env={\"working_dir\": \"./\", \"env_vars\": {\"WANDB_API_KEY\": \"09f781a401d2ec1d3ff5f9b550eb1ec0f291fb31\", \"HF_ENDPOINT\": \"http://bigqueue-service-production.bigqueue-service-production:6580/hfproxy\"}},\n",
    "    entrypoint=\"export WANDB_API_KEY=\\\"09f781a401d2ec1d3ff5f9b550eb1ec0f291fb31\\\" && export N_GPUS=4 && export BASE_MODEL=Qwen/Qwen2.5-Math-7B && export DATA_DIR=./data/simplelr_qwen_level3to5 && export ROLLOUT_TP_SIZE=2 && export EXPERIMENT_NAME=reinforce_qwen_7b_math && export VLLM_ATTENTION_BACKEND=XFORMERS && python3 -m verl.trainer.main_ppo algorithm.adv_estimator=reinforce_plus_plus data.train_files=$DATA_DIR/train.parquet data.val_files=$DATA_DIR/test.parquet data.train_batch_size=32 data.val_batch_size=32 data.max_prompt_length=1024 data.max_response_length=2048 actor_rollout_ref.model.path=$BASE_MODEL actor_rollout_ref.actor.optim.lr=1e-6 actor_rollout_ref.model.use_remove_padding=True actor_rollout_ref.actor.ppo_mini_batch_size=32 actor_rollout_ref.actor.ppo_micro_batch_size=4 actor_rollout_ref.actor.clip_ratio=0.2 actor_rollout_ref.actor.use_kl_loss=True actor_rollout_ref.actor.kl_loss_coef=0.0001 actor_rollout_ref.actor.kl_loss_type=low_var_kl actor_rollout_ref.rollout.temperature=1.0 actor_rollout_ref.model.enable_gradient_checkpointing=True actor_rollout_ref.actor.fsdp_config.param_offload=False actor_rollout_ref.actor.fsdp_config.optimizer_offload=False actor_rollout_ref.rollout.log_prob_micro_batch_size=4 actor_rollout_ref.rollout.tensor_model_parallel_size=$ROLLOUT_TP_SIZE actor_rollout_ref.rollout.name=vllm actor_rollout_ref.rollout.gpu_memory_utilization=0.6 actor_rollout_ref.rollout.n=8 actor_rollout_ref.ref.log_prob_micro_batch_size=4 actor_rollout_ref.ref.fsdp_config.param_offload=True algorithm.kl_ctrl.kl_coef=0.001 trainer.logger=\\\"['console','wandb']\\\" trainer.project_name=MathRLZero trainer.experiment_name=$EXPERIMENT_NAME trainer.n_gpus_per_node=$N_GPUS trainer.nnodes=1 trainer.save_freq=-1 trainer.test_freq=5 trainer.total_epochs=1 trainer.total_training_steps=100\",\n",
    ")"
   ]
  },
  {
   "cell_type": "code",
   "execution_count": 16,
   "metadata": {},
   "outputs": [
    {
     "data": {
      "text/plain": [
       "{'id': 'b4f3ab5e-8379-465d-bba2-d92107703f46'}"
      ]
     },
     "execution_count": 16,
     "metadata": {},
     "output_type": "execute_result"
    }
   ],
   "source": [
    "job"
   ]
  },
  {
   "cell_type": "code",
   "execution_count": null,
   "metadata": {},
   "outputs": [],
   "source": []
  }
 ],
 "metadata": {
  "kernelspec": {
   "display_name": "Python 3",
   "language": "python",
   "name": "python3"
  },
  "language_info": {
   "codemirror_mode": {
    "name": "ipython",
    "version": 3
   },
   "file_extension": ".py",
   "mimetype": "text/x-python",
   "name": "python",
   "nbconvert_exporter": "python",
   "pygments_lexer": "ipython3",
   "version": "3.10.14"
  }
 },
 "nbformat": 4,
 "nbformat_minor": 2
}
